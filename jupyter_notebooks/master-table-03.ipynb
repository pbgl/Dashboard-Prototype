{
 "cells": [
  {
   "cell_type": "code",
   "execution_count": 20,
   "id": "fiscal-startup",
   "metadata": {},
   "outputs": [],
   "source": [
    "import pandas as pd\n",
    "import numpy as np"
   ]
  },
  {
   "cell_type": "markdown",
   "id": "parliamentary-pontiac",
   "metadata": {},
   "source": [
    "# Importing data"
   ]
  },
  {
   "cell_type": "code",
   "execution_count": 21,
   "id": "stuffed-veteran",
   "metadata": {},
   "outputs": [],
   "source": [
    "SnpSiftData=pd.read_csv(r'data/snpsiftdata.tab',delimiter='\\t',encoding='UTF-8')\n",
    "chromosome_name=pd.read_csv(r'data/chromosome_name_mapping.tab',delimiter='\\t',encoding='UTF-8')\n",
    "Genotype_Data=pd.read_csv(r'data/genotype_data.tab',delimiter='\\t',encoding='UTF-8')\n",
    "passport=pd.read_csv(r'data/passport.tab',delimiter='\\t',encoding='UTF-8')"
   ]
  },
  {
   "cell_type": "code",
   "execution_count": 22,
   "id": "alone-turner",
   "metadata": {},
   "outputs": [],
   "source": [
    "passport.replace(np.NaN,'NA',inplace=True)"
   ]
  },
  {
   "cell_type": "code",
   "execution_count": 23,
   "id": "relative-carpet",
   "metadata": {},
   "outputs": [],
   "source": [
    "Genotype_Data_1=pd.melt(Genotype_Data,id_vars=['CHROM','POS'],var_name='Sample_ID',value_name='GT')"
   ]
  },
  {
   "cell_type": "markdown",
   "id": "valued-graham",
   "metadata": {},
   "source": [
    "# Adding a unique column based on Chromosome name and Position in both the Genotype_Data_1 file and SnpSiftData file"
   ]
  },
  {
   "cell_type": "code",
   "execution_count": 24,
   "id": "packed-proxy",
   "metadata": {},
   "outputs": [],
   "source": [
    "Genotype_Data_1['Chrom_Pos']=Genotype_Data_1['CHROM'].astype(str).str.cat(Genotype_Data_1['POS'].astype(str),sep='_')\n",
    "SnpSiftData['Chrom_Pos']=SnpSiftData['CHROM'].astype(str).str.cat(SnpSiftData['POS'].astype(str),sep='_')"
   ]
  },
  {
   "cell_type": "markdown",
   "id": "explicit-great",
   "metadata": {},
   "source": [
    "# Adding the information {Variety, Generation} from the passport file into Genotype_Data_1 file."
   ]
  },
  {
   "cell_type": "code",
   "execution_count": 25,
   "id": "technical-brake",
   "metadata": {},
   "outputs": [],
   "source": [
    "Genotype_Data_1.insert(4,'Variety',Genotype_Data_1['Sample_ID'].map(passport.set_index('Sample-ID')['Variety']))\n",
    "Genotype_Data_1.insert(5,'Generation',Genotype_Data_1['Sample_ID'].map(passport.set_index('Sample-ID')['Generation']))\n",
    "Genotype_Data_1.insert(5,'Treatment',Genotype_Data_1['Sample_ID'].map(passport.set_index('Sample-ID')['Treatment']))\n",
    "Genotype_Data_1.insert(5,'Dose',Genotype_Data_1['Sample_ID'].map(passport.set_index('Sample-ID')['Dose']))"
   ]
  },
  {
   "cell_type": "markdown",
   "id": "french-country",
   "metadata": {},
   "source": [
    "# Adding the chromosome names from the chromosome_name file.(Note the names will the same at first but if the user updates them they will be updated)"
   ]
  },
  {
   "cell_type": "code",
   "execution_count": 26,
   "id": "administrative-senate",
   "metadata": {},
   "outputs": [],
   "source": [
    "SnpSiftData.insert(5,'chrome_name',SnpSiftData['CHROM'].map(chromosome_name.set_index('Contig')['Chromosome']))\n",
    "SnpSiftData.rename(columns={'CHROM': 'CONTIG', 'chrome_name':'CHROM'}, inplace=True)\n",
    "SnpSiftData.replace(np.NaN, 'NA', inplace=True)"
   ]
  },
  {
   "cell_type": "code",
   "execution_count": 27,
   "id": "welsh-folder",
   "metadata": {},
   "outputs": [],
   "source": [
    "Genotype_Data_1.insert(1, 'chrome_name', Genotype_Data_1['CHROM'].map(chromosome_name.set_index('Contig')['Chromosome']))\n",
    "Genotype_Data_1.rename(columns={'CHROM': 'CONTIG', 'chrome_name':'CHROM'}, inplace=True)\n",
    "Genotype_Data_1.replace(np.NaN,'NA',inplace=True)"
   ]
  },
  {
   "cell_type": "markdown",
   "id": "great-disposal",
   "metadata": {},
   "source": [
    "# Merge the Genotype and SNP dataframes"
   ]
  },
  {
   "cell_type": "code",
   "execution_count": 28,
   "id": "desirable-madison",
   "metadata": {},
   "outputs": [],
   "source": [
    "master = pd.merge(SnpSiftData, Genotype_Data_1)"
   ]
  },
  {
   "cell_type": "markdown",
   "id": "concerned-peace",
   "metadata": {},
   "source": [
    "# Selecting and Ordering Columns"
   ]
  },
  {
   "cell_type": "code",
   "execution_count": 29,
   "id": "advanced-google",
   "metadata": {},
   "outputs": [],
   "source": [
    "columns = [\n",
    "    'ANN[*].GENE',\n",
    "    'CHROM',\n",
    "    'CONTIG',\n",
    "    'POS',\n",
    "    'Sample_ID',\n",
    "    'Variety',\n",
    "    'Generation',\n",
    "    'Treatment',\n",
    "    'Dose',\n",
    "    'GT',\n",
    "    'REF',\n",
    "    'ALT',\n",
    "    'TYPE',\n",
    "    'ANN[*].IMPACT',\n",
    "    'ANN[*].EFFECT',\n",
    "    'ANN[*].FEATURE',\n",
    "    'ANN[*].BIOTYPE',\n",
    "    'ANN[*].DISTANCE',\n",
    "    'ID'   \n",
    "]"
   ]
  },
  {
   "cell_type": "markdown",
   "id": "coastal-intranet",
   "metadata": {},
   "source": [
    "# Creating Final Dataframe"
   ]
  },
  {
   "cell_type": "code",
   "execution_count": 30,
   "id": "patent-ethiopia",
   "metadata": {},
   "outputs": [],
   "source": [
    "master_final = master[columns]"
   ]
  },
  {
   "cell_type": "markdown",
   "id": "sharing-prerequisite",
   "metadata": {},
   "source": [
    "# Exporting data"
   ]
  },
  {
   "cell_type": "code",
   "execution_count": 31,
   "id": "peaceful-simpson",
   "metadata": {},
   "outputs": [],
   "source": [
    "master_final.to_csv('master_data.csv', index=False, header=True)"
   ]
  },
  {
   "cell_type": "code",
   "execution_count": null,
   "id": "another-surname",
   "metadata": {},
   "outputs": [],
   "source": []
  }
 ],
 "metadata": {
  "kernelspec": {
   "display_name": "Python 3",
   "language": "python",
   "name": "python3"
  },
  "language_info": {
   "codemirror_mode": {
    "name": "ipython",
    "version": 3
   },
   "file_extension": ".py",
   "mimetype": "text/x-python",
   "name": "python",
   "nbconvert_exporter": "python",
   "pygments_lexer": "ipython3",
   "version": "3.6.7"
  }
 },
 "nbformat": 4,
 "nbformat_minor": 5
}
